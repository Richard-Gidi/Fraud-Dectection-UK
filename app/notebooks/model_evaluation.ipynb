{
 "cells": [
  {
   "cell_type": "markdown",
   "id": "d02cd46c",
   "metadata": {},
   "source": [
    "# Fraud Detection Model Evaluation and Monitoring\n",
    "\n",
    "This notebook provides comprehensive analysis and monitoring of our fraud detection model's performance. We'll examine various metrics, analyze feature importance, and visualize model behavior."
   ]
  },
  {
   "cell_type": "code",
   "execution_count": null,
   "id": "fb3190f9",
   "metadata": {},
   "outputs": [],
   "source": [
    "# Import required libraries\n",
    "import pandas as pd\n",
    "import numpy as np\n",
    "import matplotlib.pyplot as plt\n",
    "import seaborn as sns\n",
    "import joblib\n",
    "from sklearn.metrics import confusion_matrix, classification_report, roc_curve, auc\n",
    "import shap\n",
    "import warnings\n",
    "warnings.filterwarnings('ignore')"
   ]
  },
  {
   "cell_type": "markdown",
   "id": "a470f6ae",
   "metadata": {},
   "source": [
    "## Load Model and Test Data\n",
    "\n",
    "Let's load our trained model and test data to evaluate performance:"
   ]
  },
  {
   "cell_type": "code",
   "execution_count": null,
   "id": "a812af4f",
   "metadata": {},
   "outputs": [],
   "source": [
    "# Load the trained model and preprocessor\n",
    "model = joblib.load('../models/xgboost_model.joblib')\n",
    "preprocessor = joblib.load('../models/preprocessor.joblib')\n",
    "\n",
    "# Load test data\n",
    "test_data = pd.read_csv('../data/test.csv')\n",
    "\n",
    "# Preprocess test data\n",
    "X_test = preprocessor.transform(test_data.drop('fraud', axis=1))\n",
    "y_test = test_data['fraud']\n",
    "\n",
    "# Get predictions\n",
    "y_pred = model.predict(X_test)\n",
    "y_pred_proba = model.predict_proba(X_test)[:,1]"
   ]
  },
  {
   "cell_type": "markdown",
   "id": "6d9245a4",
   "metadata": {},
   "source": [
    "## Model Performance Metrics\n",
    "\n",
    "Let's analyze various performance metrics including accuracy, precision, recall, and F1-score:"
   ]
  },
  {
   "cell_type": "code",
   "execution_count": null,
   "id": "8dda87a4",
   "metadata": {},
   "outputs": [],
   "source": [
    "# Print classification report\n",
    "print(\"Classification Report:\")\n",
    "print(classification_report(y_test, y_pred))\n",
    "\n",
    "# Create confusion matrix\n",
    "cm = confusion_matrix(y_test, y_pred)\n",
    "plt.figure(figsize=(8, 6))\n",
    "sns.heatmap(cm, annot=True, fmt='d', cmap='Blues')\n",
    "plt.title('Confusion Matrix')\n",
    "plt.ylabel('True Label')\n",
    "plt.xlabel('Predicted Label')\n",
    "plt.show()"
   ]
  },
  {
   "cell_type": "markdown",
   "id": "90369b0f",
   "metadata": {},
   "source": [
    "## ROC Curve Analysis\n",
    "\n",
    "The ROC curve helps us understand the trade-off between sensitivity and specificity:"
   ]
  },
  {
   "cell_type": "code",
   "execution_count": null,
   "id": "cdd24de5",
   "metadata": {},
   "outputs": [],
   "source": [
    "# Calculate ROC curve and AUC\n",
    "fpr, tpr, _ = roc_curve(y_test, y_pred_proba)\n",
    "roc_auc = auc(fpr, tpr)\n",
    "\n",
    "# Plot ROC curve\n",
    "plt.figure(figsize=(8, 6))\n",
    "plt.plot(fpr, tpr, color='darkorange', lw=2, label=f'ROC curve (AUC = {roc_auc:.2f})')\n",
    "plt.plot([0, 1], [0, 1], color='navy', lw=2, linestyle='--')\n",
    "plt.xlim([0.0, 1.0])\n",
    "plt.ylim([0.0, 1.05])\n",
    "plt.xlabel('False Positive Rate')\n",
    "plt.ylabel('True Positive Rate')\n",
    "plt.title('Receiver Operating Characteristic (ROC) Curve')\n",
    "plt.legend(loc=\"lower right\")\n",
    "plt.show()"
   ]
  },
  {
   "cell_type": "markdown",
   "id": "ac083121",
   "metadata": {},
   "source": [
    "## Feature Importance Analysis\n",
    "\n",
    "Let's examine which features are most important for fraud detection:"
   ]
  },
  {
   "cell_type": "code",
   "execution_count": null,
   "id": "5fe9bbf3",
   "metadata": {},
   "outputs": [],
   "source": [
    "# Get feature importance\n",
    "feature_importance = pd.DataFrame({\n",
    "    'feature': preprocessor.get_feature_names_out(),\n",
    "    'importance': model.feature_importances_\n",
    "})\n",
    "\n",
    "# Sort by importance\n",
    "feature_importance = feature_importance.sort_values('importance', ascending=False)\n",
    "\n",
    "# Plot feature importance\n",
    "plt.figure(figsize=(12, 6))\n",
    "sns.barplot(data=feature_importance.head(10), x='importance', y='feature')\n",
    "plt.title('Top 10 Most Important Features')\n",
    "plt.xlabel('Feature Importance')\n",
    "plt.tight_layout()\n",
    "plt.show()"
   ]
  },
  {
   "cell_type": "markdown",
   "id": "8158b572",
   "metadata": {},
   "source": [
    "## SHAP Value Analysis\n",
    "\n",
    "SHAP (SHapley Additive exPlanations) values help us understand how each feature contributes to individual predictions:"
   ]
  },
  {
   "cell_type": "code",
   "execution_count": null,
   "id": "360dc758",
   "metadata": {},
   "outputs": [],
   "source": [
    "# Calculate SHAP values\n",
    "explainer = shap.TreeExplainer(model)\n",
    "shap_values = explainer.shap_values(X_test)\n",
    "\n",
    "# Plot SHAP summary\n",
    "shap.summary_plot(shap_values, X_test, feature_names=preprocessor.get_feature_names_out())"
   ]
  }
 ],
 "metadata": {
  "language_info": {
   "name": "python"
  }
 },
 "nbformat": 4,
 "nbformat_minor": 5
}
